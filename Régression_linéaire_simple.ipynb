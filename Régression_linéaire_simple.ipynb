{
  "nbformat": 4,
  "nbformat_minor": 0,
  "metadata": {
    "colab": {
      "name": "Régression linéaire simple",
      "provenance": [],
      "collapsed_sections": [],
      "authorship_tag": "ABX9TyOtzR85Xoy16cS+R/7yFg8m",
      "include_colab_link": true
    },
    "kernelspec": {
      "name": "python3",
      "display_name": "Python 3"
    },
    "language_info": {
      "name": "python"
    }
  },
  "cells": [
    {
      "cell_type": "markdown",
      "metadata": {
        "id": "view-in-github",
        "colab_type": "text"
      },
      "source": [
        "<a href=\"https://colab.research.google.com/github/ASEBRIYfatima/Virus7/blob/main/Re%CC%81gression_line%CC%81aire_simple.ipynb\" target=\"_parent\"><img src=\"https://colab.research.google.com/assets/colab-badge.svg\" alt=\"Open In Colab\"/></a>"
      ]
    },
    {
      "cell_type": "code",
      "metadata": {
        "id": "OkZkYLsUjh7O"
      },
      "source": [
        "#craetion  base de donnée"
      ],
      "execution_count": null,
      "outputs": []
    },
    {
      "cell_type": "code",
      "metadata": {
        "id": "KYq9JKciixzO"
      },
      "source": [
        "import numpy as np\n",
        "from sklearn.datasets import make_regression\n",
        "import matplotlib.pyplot as plt"
      ],
      "execution_count": null,
      "outputs": []
    },
    {
      "cell_type": "code",
      "metadata": {
        "colab": {
          "base_uri": "https://localhost:8080/"
        },
        "id": "G1oKvJQGjydu",
        "outputId": "b69620b3-c626-47f3-d0a4-b3e80f5003ac"
      },
      "source": [
        "n_observations=100\n",
        "x,y=make_regression(n_samples=n_observations,n_features=1, noise=10)\n",
        "#//n_sample==nbr d'observation\n",
        "#y=y.reshape(n_observations,1)\n",
        "y=y.reshape(len(y),1)\n",
        "#//verifier les dimansion\n",
        "print(np.shape(x))\n",
        "print(y.shape)"
      ],
      "execution_count": null,
      "outputs": [
        {
          "output_type": "stream",
          "name": "stdout",
          "text": [
            "(100, 1)\n",
            "(100, 1)\n"
          ]
        }
      ]
    },
    {
      "cell_type": "markdown",
      "metadata": {
        "id": "tGOrbDrclVWY"
      },
      "source": [
        "Visualisation"
      ]
    },
    {
      "cell_type": "code",
      "metadata": {
        "colab": {
          "base_uri": "https://localhost:8080/",
          "height": 265
        },
        "id": "7zKL1SmolU4O",
        "outputId": "978c18ec-bada-4f7f-fe5b-4ecbd4544bd7"
      },
      "source": [
        "plt.scatter(x,y,c='g')\n",
        "plt.show()"
      ],
      "execution_count": null,
      "outputs": [
        {
          "output_type": "display_data",
          "data": {
            "image/png": "[encoded data removed]",
            "text/plain": [
              "<Figure size 432x288 with 1 Axes>"
            ]
          },
          "metadata": {
            "needs_background": "light"
          }
        }
      ]
    },
    {
      "cell_type": "markdown",
      "metadata": {
        "id": "65XMQEgUmqUz"
      },
      "source": [
        "Modele\n"
      ]
    },
    {
      "cell_type": "markdown",
      "metadata": {
        "id": "vYG_V5qznEu5"
      },
      "source": [
        "y_p=b0+b1*x\n",
        "\n",
        "Y_p=X*B.T"
      ]
    },
    {
      "cell_type": "code",
      "metadata": {
        "colab": {
          "base_uri": "https://localhost:8080/"
        },
        "id": "PjQw-k9Hn5GJ",
        "outputId": "c355ae25-3078-4595-ed1f-cb14c5a0a3bd"
      },
      "source": [
        "X=np.hstack((x,np.ones((len(x),1))))\n",
        "X"
      ],
      "execution_count": null,
      "outputs": [
        {
          "output_type": "execute_result",
          "data": {
            "text/plain": [
              "array([[-0.54816131,  1.        ],\n",
              "       [ 0.0949605 ,  1.        ],\n",
              "       [-1.23226683,  1.        ],\n",
              "       [ 1.49381017,  1.        ],\n",
              "       [ 1.80516474,  1.        ],\n",
              "       [ 0.20725757,  1.        ],\n",
              "       [-1.15150079,  1.        ],\n",
              "       [ 0.51069051,  1.        ],\n",
              "       [-0.77752168,  1.        ],\n",
              "       [ 0.3913155 ,  1.        ],\n",
              "       [-0.5924152 ,  1.        ],\n",
              "       [ 0.82545856,  1.        ],\n",
              "       [-0.37964374,  1.        ],\n",
              "       [-0.91156342,  1.        ],\n",
              "       [-0.31231289,  1.        ],\n",
              "       [-0.06286366,  1.        ],\n",
              "       [ 1.24557752,  1.        ],\n",
              "       [ 0.9073808 ,  1.        ],\n",
              "       [ 0.86660029,  1.        ],\n",
              "       [-1.94559856,  1.        ],\n",
              "       [ 0.10119557,  1.        ],\n",
              "       [-0.52371669,  1.        ],\n",
              "       [-0.86597952,  1.        ],\n",
              "       [ 0.38748377,  1.        ],\n",
              "       [ 0.00873629,  1.        ],\n",
              "       [-0.51450144,  1.        ],\n",
              "       [ 0.54355712,  1.        ],\n",
              "       [ 0.34535961,  1.        ],\n",
              "       [-0.62238878,  1.        ],\n",
              "       [ 0.11773151,  1.        ],\n",
              "       [-0.03894183,  1.        ],\n",
              "       [-0.36802563,  1.        ],\n",
              "       [-0.0809559 ,  1.        ],\n",
              "       [-0.15359356,  1.        ],\n",
              "       [ 0.56836245,  1.        ],\n",
              "       [-0.45551002,  1.        ],\n",
              "       [-0.96398422,  1.        ],\n",
              "       [ 0.71027316,  1.        ],\n",
              "       [ 0.36747435,  1.        ],\n",
              "       [-0.89910736,  1.        ],\n",
              "       [-1.11495592,  1.        ],\n",
              "       [ 0.48429124,  1.        ],\n",
              "       [-0.34216603,  1.        ],\n",
              "       [-0.51025742,  1.        ],\n",
              "       [ 0.35881525,  1.        ],\n",
              "       [-0.59789303,  1.        ],\n",
              "       [-0.09702598,  1.        ],\n",
              "       [-1.21730467,  1.        ],\n",
              "       [-0.48445361,  1.        ],\n",
              "       [ 1.86574798,  1.        ],\n",
              "       [-0.21935618,  1.        ],\n",
              "       [-0.51246445,  1.        ],\n",
              "       [ 0.72203797,  1.        ],\n",
              "       [ 0.12917534,  1.        ],\n",
              "       [-0.15657915,  1.        ],\n",
              "       [ 0.543287  ,  1.        ],\n",
              "       [-0.23851976,  1.        ],\n",
              "       [ 0.34272346,  1.        ],\n",
              "       [-1.21129133,  1.        ],\n",
              "       [ 2.24384454,  1.        ],\n",
              "       [-0.93935166,  1.        ],\n",
              "       [ 0.03403661,  1.        ],\n",
              "       [-0.91987825,  1.        ],\n",
              "       [-0.53191718,  1.        ],\n",
              "       [ 1.34847533,  1.        ],\n",
              "       [ 2.21712446,  1.        ],\n",
              "       [-1.71239169,  1.        ],\n",
              "       [ 1.70162905,  1.        ],\n",
              "       [ 1.77578514,  1.        ],\n",
              "       [ 1.14866066,  1.        ],\n",
              "       [ 0.0506004 ,  1.        ],\n",
              "       [-0.11243244,  1.        ],\n",
              "       [-0.62867929,  1.        ],\n",
              "       [ 0.91352556,  1.        ],\n",
              "       [ 0.26540928,  1.        ],\n",
              "       [-1.35359873,  1.        ],\n",
              "       [ 0.43466813,  1.        ],\n",
              "       [-1.20537441,  1.        ],\n",
              "       [ 0.27070003,  1.        ],\n",
              "       [ 0.74870681,  1.        ],\n",
              "       [ 0.43990521,  1.        ],\n",
              "       [-0.76509038,  1.        ],\n",
              "       [ 0.08436885,  1.        ],\n",
              "       [-0.09433074,  1.        ],\n",
              "       [ 1.52070873,  1.        ],\n",
              "       [ 0.20572198,  1.        ],\n",
              "       [-0.92017861,  1.        ],\n",
              "       [ 0.16168228,  1.        ],\n",
              "       [-0.98843303,  1.        ],\n",
              "       [-0.77972004,  1.        ],\n",
              "       [ 0.33297005,  1.        ],\n",
              "       [ 0.0981599 ,  1.        ],\n",
              "       [ 0.22136533,  1.        ],\n",
              "       [ 0.96338645,  1.        ],\n",
              "       [ 0.15619694,  1.        ],\n",
              "       [ 0.49730639,  1.        ],\n",
              "       [ 2.30469189,  1.        ],\n",
              "       [-1.55240798,  1.        ],\n",
              "       [ 0.23343519,  1.        ],\n",
              "       [ 0.31087015,  1.        ]])"
            ]
          },
          "metadata": {},
          "execution_count": 190
        }
      ]
    },
    {
      "cell_type": "code",
      "metadata": {
        "id": "bMuFQ7vtnHQY"
      },
      "source": [
        "beta=np.random.rand(1,2)\n",
        "def modele(X,B):\n",
        "   return X.dot(B.T)"
      ],
      "execution_count": null,
      "outputs": []
    },
    {
      "cell_type": "code",
      "metadata": {
        "id": "_XejP9aLqJfT"
      },
      "source": [
        "y_p=modele(X,beta)"
      ],
      "execution_count": null,
      "outputs": []
    },
    {
      "cell_type": "code",
      "metadata": {
        "colab": {
          "base_uri": "https://localhost:8080/",
          "height": 265
        },
        "id": "U_OabR4EqwHu",
        "outputId": "f4b715b3-1e33-4361-eb9f-b76815500a99"
      },
      "source": [
        "#visualiser le modele generer aleatoirement\n",
        "plt.scatter(x,y,c='g')\n",
        "plt.plot(x,y_p,c='r')\n",
        "plt.show()"
      ],
      "execution_count": null,
      "outputs": [
        {
          "output_type": "display_data",
          "data": {
            "image/png": "[encoded data removed]",
            "text/plain": [
              "<Figure size 432x288 with 1 Axes>"
            ]
          },
          "metadata": {
            "needs_background": "light"
          }
        }
      ]
    },
    {
      "cell_type": "markdown",
      "metadata": {
        "id": "GvF4e2JerCQ1"
      },
      "source": [
        "methode de descente de gradient\n"
      ]
    },
    {
      "cell_type": "code",
      "metadata": {
        "id": "nCJYdXgvrGwV"
      },
      "source": [
        "def gradient(X,B,Y):\n",
        "  n=len(Y)\n",
        "  return (2/n)*((modele(X,B)-Y).T).dot(X)\n",
        "\n",
        "def descenteGradient(X,B,T,nb_iter=100,learning_rate=0.1):\n",
        "  for i in range(nb_iter):\n",
        "    B=B-learning_rate*gradient(X,B,y)\n",
        "    return B\n"
      ],
      "execution_count": null,
      "outputs": []
    },
    {
      "cell_type": "code",
      "metadata": {
        "id": "QmpX25mFsbip"
      },
      "source": [
        "beta_esti=descenteGradient(X,np.copy(beta),y)\n",
        "#beta_estimer=descenteGradient(X,y,beta,learning_rate=0.01, n_iteration=2000)"
      ],
      "execution_count": null,
      "outputs": []
    },
    {
      "cell_type": "code",
      "metadata": {
        "colab": {
          "base_uri": "https://localhost:8080/"
        },
        "id": "mTO8x4cis7gP",
        "outputId": "51984c71-448e-4f8a-842e-aa073bccf732"
      },
      "source": [
        "beta_esti"
      ],
      "execution_count": null,
      "outputs": [
        {
          "output_type": "execute_result",
          "data": {
            "text/plain": [
              "array([[12.80572191,  1.02503734]])"
            ]
          },
          "metadata": {},
          "execution_count": 238
        }
      ]
    },
    {
      "cell_type": "code",
      "metadata": {
        "id": "2gSv5rxks--l"
      },
      "source": [
        "y_p=modele(X,beta_esti)"
      ],
      "execution_count": null,
      "outputs": []
    },
    {
      "cell_type": "code",
      "metadata": {
        "colab": {
          "base_uri": "https://localhost:8080/",
          "height": 201
        },
        "id": "X2R1h2NHtOym",
        "outputId": "c3280c21-755f-447b-968b-b9418d3243fd"
      },
      "source": [
        "plt.scatter(x,y,c='g')\n",
        "plt.plot(x,y_p,c='r')\n",
        "plt.show()"
      ],
      "execution_count": null,
      "outputs": [
        {
          "output_type": "error",
          "ename": "NameError",
          "evalue": "ignored",
          "traceback": [
            "\u001b[0;31m---------------------------------------------------------------------------\u001b[0m",
            "\u001b[0;31mNameError\u001b[0m                                 Traceback (most recent call last)",
            "\u001b[0;32m<ipython-input-1-b7fed0a52628>\u001b[0m in \u001b[0;36m<module>\u001b[0;34m()\u001b[0m\n\u001b[0;32m----> 1\u001b[0;31m \u001b[0mplt\u001b[0m\u001b[0;34m.\u001b[0m\u001b[0mscatter\u001b[0m\u001b[0;34m(\u001b[0m\u001b[0mx\u001b[0m\u001b[0;34m,\u001b[0m\u001b[0my\u001b[0m\u001b[0;34m,\u001b[0m\u001b[0mc\u001b[0m\u001b[0;34m=\u001b[0m\u001b[0;34m'g'\u001b[0m\u001b[0;34m)\u001b[0m\u001b[0;34m\u001b[0m\u001b[0;34m\u001b[0m\u001b[0m\n\u001b[0m\u001b[1;32m      2\u001b[0m \u001b[0mplt\u001b[0m\u001b[0;34m.\u001b[0m\u001b[0mplot\u001b[0m\u001b[0;34m(\u001b[0m\u001b[0mx\u001b[0m\u001b[0;34m,\u001b[0m\u001b[0my_p\u001b[0m\u001b[0;34m,\u001b[0m\u001b[0mc\u001b[0m\u001b[0;34m=\u001b[0m\u001b[0;34m'r'\u001b[0m\u001b[0;34m)\u001b[0m\u001b[0;34m\u001b[0m\u001b[0;34m\u001b[0m\u001b[0m\n\u001b[1;32m      3\u001b[0m \u001b[0mplt\u001b[0m\u001b[0;34m.\u001b[0m\u001b[0mshow\u001b[0m\u001b[0;34m(\u001b[0m\u001b[0;34m)\u001b[0m\u001b[0;34m\u001b[0m\u001b[0;34m\u001b[0m\u001b[0m\n",
            "\u001b[0;31mNameError\u001b[0m: name 'plt' is not defined"
          ]
        }
      ]
    },
    {
      "cell_type": "markdown",
      "metadata": {
        "id": "fde_IRz7zOmr"
      },
      "source": [
        "fonction de cout"
      ]
    },
    {
      "cell_type": "code",
      "metadata": {
        "id": "uJw0RfPXxGWo"
      },
      "source": [
        "def fonctionCout(Y,X,B):\n",
        "  n=len(Y)\n",
        "  terme=(Y-modele(X,B))\n",
        "  return (1/n)*(terme.T).dot(terme)[0]\n"
      ],
      "execution_count": null,
      "outputs": []
    },
    {
      "cell_type": "code",
      "metadata": {
        "id": "pknI9QamxiUV"
      },
      "source": [
        "def descenteGradientErreur(X,B,Y,nb_iter=100,learning_rate=0.1):\n",
        "    erreurs=[]\n",
        "    for i in range(nb_iter):\n",
        "      B=B-learning_rate*gradient(X,B,Y)\n",
        "      err=fonctionCout(Y,X,B)\n",
        "      erreurs.append(err)\n",
        "    return B,erreurs"
      ],
      "execution_count": null,
      "outputs": []
    },
    {
      "cell_type": "code",
      "metadata": {
        "id": "_1zh2pQEyXY0"
      },
      "source": [
        "beta_esti,erreurs=descenteGradientErreur(X,np.copy(beta),y,nb_iter=100,learning_rate=0.1)\n"
      ],
      "execution_count": null,
      "outputs": []
    },
    {
      "cell_type": "code",
      "metadata": {
        "colab": {
          "base_uri": "https://localhost:8080/"
        },
        "id": "tl4El70DywDM",
        "outputId": "a77102b7-ed1a-48db-f547-0d91fdcf5845"
      },
      "source": [
        "np.shape(erreurs)"
      ],
      "execution_count": null,
      "outputs": [
        {
          "output_type": "execute_result",
          "data": {
            "text/plain": [
              "(100, 1)"
            ]
          },
          "metadata": {},
          "execution_count": 249
        }
      ]
    },
    {
      "cell_type": "code",
      "metadata": {
        "colab": {
          "base_uri": "https://localhost:8080/",
          "height": 269
        },
        "id": "gbC1jAOuyjNV",
        "outputId": "78e567eb-0864-45b7-a210-5147b454130a"
      },
      "source": [
        "plt.plot(erreurs,c='r')\n",
        "plt.show()"
      ],
      "execution_count": null,
      "outputs": [
        {
          "output_type": "display_data",
          "data": {
            "image/png": "[encoded data removed]",
            "text/plain": [
              "<Figure size 432x288 with 1 Axes>"
            ]
          },
          "metadata": {
            "needs_background": "light"
          }
        }
      ]
    }
  ]
}